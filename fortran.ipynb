{
 "cells": [
  {
   "cell_type": "code",
   "execution_count": 9,
   "metadata": {},
   "outputs": [],
   "source": [
    "import numpy as np\n",
    "from numba import jit, njit\n"
   ]
  },
  {
   "cell_type": "code",
   "execution_count": null,
   "metadata": {},
   "outputs": [],
   "source": [
    "\n",
    "def get_ells(A, B, lamb, Nq):\n",
    "    eps = 0 if (lamb - Nq) % 2 == 0 else 1\n",
    "    \n",
    "    l1 = A + B + eps\n",
    "    l2 = A - B + lamb\n",
    "\n",
    "    return l1, l2, eps\n",
    "\n",
    "# Based on the stupid order things are saved in FORTRAN (yes, makes no sense)\n",
    "# l (lamb), N (B), M (A), n1, n2, Nprime (B'), n1prime, Mprime (A')\n"
   ]
  },
  {
   "cell_type": "code",
   "execution_count": 35,
   "metadata": {},
   "outputs": [
    {
     "name": "stdout",
     "output_type": "stream",
     "text": [
      "0.4564354645876383\n"
     ]
    }
   ],
   "source": [
    "# Open the file\n",
    "\n",
    "lamb_max = 3\n",
    "lamb_min = 0\n",
    "nqdif = 6\n",
    "Nq_max = nqdif + lamb_max\n",
    "\n",
    "sz = (Nq_max - lamb_min)//2 + 1\n",
    "brackets_f = np.zeros((lamb_max + 1, sz, sz, sz, sz, lamb_max + 1, sz, lamb_max - lamb_min + 1))\n",
    "\n",
    "# Brackets with the quantum numbers we want: TODO\n",
    "l_min = 0\n",
    "l_max = 0\n",
    "n_min = 0\n",
    "n_max = 0\n",
    "\n",
    "\n",
    "# Load the Fortran computed values\n",
    "values_and_indices = np.loadtxt('OSBRACKETS/out1')\n",
    "values = values_and_indices[:, -1]\n",
    "indices = values_and_indices[:, :-1].astype(int)\n",
    "\n",
    "# Index the matrix\n",
    "# Based on the stupid order things are saved in FORTRAN (yes, makes no sense)\n",
    "# l (lamb), N (B), M (A), n1, n2, Nprime (B'), n1prime, Mprime (A')\n",
    "brackets_f[tuple(indices.T)] = values\n",
    "\n",
    "#print(values.shape, np.prod([i for i in brackets_f.shape]))\n",
    "\n",
    "print(brackets_f[0,1,0,0,1,0,0,1])\n",
    "\n",
    "for i in range(len(values)):\n",
    "    idx = indices[i]\n",
    "    brackets_f[tuple(indices.T)] = values[i]\n",
    "\n",
    "   # TODO: Check that Nqmax - Nq is always even  \n",
    "\n",
    "    if values[i] != 0:\n",
    "        print(idx, values[i])\n",
    "        print(idx, brackets_f[tuple(idx.T)], \"Idx\")\n"
   ]
  },
  {
   "cell_type": "code",
   "execution_count": null,
   "metadata": {},
   "outputs": [],
   "source": []
  }
 ],
 "metadata": {
  "kernelspec": {
   "display_name": "nuc",
   "language": "python",
   "name": "python3"
  },
  "language_info": {
   "codemirror_mode": {
    "name": "ipython",
    "version": 3
   },
   "file_extension": ".py",
   "mimetype": "text/x-python",
   "name": "python",
   "nbconvert_exporter": "python",
   "pygments_lexer": "ipython3",
   "version": "3.10.8"
  },
  "orig_nbformat": 4,
  "vscode": {
   "interpreter": {
    "hash": "f2026915bd68eb09421da6621785de9174d3c118f54f57b696cf59ac276bd21b"
   }
  }
 },
 "nbformat": 4,
 "nbformat_minor": 2
}
