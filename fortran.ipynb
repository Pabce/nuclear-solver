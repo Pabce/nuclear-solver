{
 "cells": [
  {
   "cell_type": "code",
   "execution_count": 122,
   "metadata": {},
   "outputs": [],
   "source": [
    "import numpy as np\n",
    "from numba import jit, njit\n"
   ]
  },
  {
   "cell_type": "code",
   "execution_count": 123,
   "metadata": {},
   "outputs": [],
   "source": [
    "def get_nq_and_eps(Nq_max, A, lamb, n1, n2):\n",
    "    # Determine the parity of Nq - lamb\n",
    "    Nqpar = Nq_max % 2\n",
    "    Nq_minus_lamb_par = (Nqpar - lamb) % 2\n",
    "    eps = Nq_minus_lamb_par % 2\n",
    "    # Determine Nq\n",
    "    Nq = 2 * n1 + 2 * n2 + 2 * A + lamb + eps\n",
    "\n",
    "    return Nq, eps\n",
    "\n",
    "\n",
    "def get_ells(A, B, lamb, eps):    \n",
    "    l1 = A + B + eps\n",
    "    l2 = A - B + lamb\n",
    "\n",
    "    return l1, l2\n",
    "\n",
    "# Based on the stupid order things are saved in FORTRAN (yes, makes no sense)\n",
    "# From: N' (B'), n1', M' (A'), n1, n2, N (B), M (A), L (lamb)\n",
    "# To: n1, l1, n2, l2, n1', l1', l2', lamb\n",
    "def recast_indices(Nq_max, Bprime, n1prime, Aprime, n1, n2, B, A, lamb):\n",
    "\n",
    "    Nq, eps = get_nq_and_eps(Nq_max, A, lamb, n1, n2)\n",
    "    l1, l2 = get_ells(A, B, lamb, eps)\n",
    "    l1prime, l2prime = get_ells(Aprime, Bprime, lamb, eps)\n",
    "\n",
    "    return [n1, l1, n2, l2, n1prime, l1prime, l2prime, lamb]\n",
    "\n"
   ]
  },
  {
   "cell_type": "code",
   "execution_count": 125,
   "metadata": {},
   "outputs": [
    {
     "ename": "KeyboardInterrupt",
     "evalue": "",
     "output_type": "error",
     "traceback": [
      "\u001b[0;31m---------------------------------------------------------------------------\u001b[0m",
      "\u001b[0;31mKeyboardInterrupt\u001b[0m                         Traceback (most recent call last)",
      "Cell \u001b[0;32mIn[125], line 11\u001b[0m\n\u001b[1;32m      8\u001b[0m brackets_f \u001b[39m=\u001b[39m np\u001b[39m.\u001b[39mzeros((lamb_max \u001b[39m+\u001b[39m \u001b[39m1\u001b[39m, sz, sz, sz, sz, lamb_max \u001b[39m+\u001b[39m \u001b[39m1\u001b[39m, sz, lamb_max \u001b[39m-\u001b[39m lamb_min \u001b[39m+\u001b[39m \u001b[39m1\u001b[39m))\n\u001b[1;32m     10\u001b[0m \u001b[39m# Open the file and load the Fortran computed values\u001b[39;00m\n\u001b[0;32m---> 11\u001b[0m values_and_indices_f \u001b[39m=\u001b[39m np\u001b[39m.\u001b[39;49mloadtxt(\u001b[39m'\u001b[39;49m\u001b[39mOSBRACKETS/out_even\u001b[39;49m\u001b[39m'\u001b[39;49m)\n\u001b[1;32m     12\u001b[0m values_f \u001b[39m=\u001b[39m values_and_indices_f[:, \u001b[39m-\u001b[39m\u001b[39m1\u001b[39m]\n\u001b[1;32m     13\u001b[0m indices_f \u001b[39m=\u001b[39m values_and_indices_f[:, :\u001b[39m-\u001b[39m\u001b[39m1\u001b[39m]\u001b[39m.\u001b[39mastype(\u001b[39mint\u001b[39m)\n",
      "File \u001b[0;32m~/anaconda3/envs/nuc/lib/python3.10/site-packages/numpy/lib/npyio.py:1338\u001b[0m, in \u001b[0;36mloadtxt\u001b[0;34m(fname, dtype, comments, delimiter, converters, skiprows, usecols, unpack, ndmin, encoding, max_rows, quotechar, like)\u001b[0m\n\u001b[1;32m   1335\u001b[0m \u001b[39mif\u001b[39;00m \u001b[39misinstance\u001b[39m(delimiter, \u001b[39mbytes\u001b[39m):\n\u001b[1;32m   1336\u001b[0m     delimiter \u001b[39m=\u001b[39m delimiter\u001b[39m.\u001b[39mdecode(\u001b[39m'\u001b[39m\u001b[39mlatin1\u001b[39m\u001b[39m'\u001b[39m)\n\u001b[0;32m-> 1338\u001b[0m arr \u001b[39m=\u001b[39m _read(fname, dtype\u001b[39m=\u001b[39;49mdtype, comment\u001b[39m=\u001b[39;49mcomment, delimiter\u001b[39m=\u001b[39;49mdelimiter,\n\u001b[1;32m   1339\u001b[0m             converters\u001b[39m=\u001b[39;49mconverters, skiplines\u001b[39m=\u001b[39;49mskiprows, usecols\u001b[39m=\u001b[39;49musecols,\n\u001b[1;32m   1340\u001b[0m             unpack\u001b[39m=\u001b[39;49munpack, ndmin\u001b[39m=\u001b[39;49mndmin, encoding\u001b[39m=\u001b[39;49mencoding,\n\u001b[1;32m   1341\u001b[0m             max_rows\u001b[39m=\u001b[39;49mmax_rows, quote\u001b[39m=\u001b[39;49mquotechar)\n\u001b[1;32m   1343\u001b[0m \u001b[39mreturn\u001b[39;00m arr\n",
      "File \u001b[0;32m~/anaconda3/envs/nuc/lib/python3.10/site-packages/numpy/lib/npyio.py:999\u001b[0m, in \u001b[0;36m_read\u001b[0;34m(fname, delimiter, comment, quote, imaginary_unit, usecols, skiplines, max_rows, converters, ndmin, unpack, dtype, encoding)\u001b[0m\n\u001b[1;32m    996\u001b[0m     data \u001b[39m=\u001b[39m _preprocess_comments(data, comments, encoding)\n\u001b[1;32m    998\u001b[0m \u001b[39mif\u001b[39;00m read_dtype_via_object_chunks \u001b[39mis\u001b[39;00m \u001b[39mNone\u001b[39;00m:\n\u001b[0;32m--> 999\u001b[0m     arr \u001b[39m=\u001b[39m _load_from_filelike(\n\u001b[1;32m   1000\u001b[0m         data, delimiter\u001b[39m=\u001b[39;49mdelimiter, comment\u001b[39m=\u001b[39;49mcomment, quote\u001b[39m=\u001b[39;49mquote,\n\u001b[1;32m   1001\u001b[0m         imaginary_unit\u001b[39m=\u001b[39;49mimaginary_unit,\n\u001b[1;32m   1002\u001b[0m         usecols\u001b[39m=\u001b[39;49musecols, skiplines\u001b[39m=\u001b[39;49mskiplines, max_rows\u001b[39m=\u001b[39;49mmax_rows,\n\u001b[1;32m   1003\u001b[0m         converters\u001b[39m=\u001b[39;49mconverters, dtype\u001b[39m=\u001b[39;49mdtype,\n\u001b[1;32m   1004\u001b[0m         encoding\u001b[39m=\u001b[39;49mencoding, filelike\u001b[39m=\u001b[39;49mfilelike,\n\u001b[1;32m   1005\u001b[0m         byte_converters\u001b[39m=\u001b[39;49mbyte_converters)\n\u001b[1;32m   1007\u001b[0m \u001b[39melse\u001b[39;00m:\n\u001b[1;32m   1008\u001b[0m     \u001b[39m# This branch reads the file into chunks of object arrays and then\u001b[39;00m\n\u001b[1;32m   1009\u001b[0m     \u001b[39m# casts them to the desired actual dtype.  This ensures correct\u001b[39;00m\n\u001b[1;32m   1010\u001b[0m     \u001b[39m# string-length and datetime-unit discovery (like `arr.astype()`).\u001b[39;00m\n\u001b[1;32m   1011\u001b[0m     \u001b[39m# Due to chunking, certain error reports are less clear, currently.\u001b[39;00m\n\u001b[1;32m   1012\u001b[0m     \u001b[39mif\u001b[39;00m filelike:\n",
      "File \u001b[0;32m~/anaconda3/envs/nuc/lib/python3.10/codecs.py:331\u001b[0m, in \u001b[0;36mBufferedIncrementalDecoder.getstate\u001b[0;34m(self)\u001b[0m\n\u001b[1;32m    328\u001b[0m     IncrementalDecoder\u001b[39m.\u001b[39mreset(\u001b[39mself\u001b[39m)\n\u001b[1;32m    329\u001b[0m     \u001b[39mself\u001b[39m\u001b[39m.\u001b[39mbuffer \u001b[39m=\u001b[39m \u001b[39mb\u001b[39m\u001b[39m\"\u001b[39m\u001b[39m\"\u001b[39m\n\u001b[0;32m--> 331\u001b[0m \u001b[39mdef\u001b[39;00m \u001b[39mgetstate\u001b[39m(\u001b[39mself\u001b[39m):\n\u001b[1;32m    332\u001b[0m     \u001b[39m# additional state info is always 0\u001b[39;00m\n\u001b[1;32m    333\u001b[0m     \u001b[39mreturn\u001b[39;00m (\u001b[39mself\u001b[39m\u001b[39m.\u001b[39mbuffer, \u001b[39m0\u001b[39m)\n\u001b[1;32m    335\u001b[0m \u001b[39mdef\u001b[39;00m \u001b[39msetstate\u001b[39m(\u001b[39mself\u001b[39m, state):\n\u001b[1;32m    336\u001b[0m     \u001b[39m# ignore additional state info\u001b[39;00m\n",
      "\u001b[0;31mKeyboardInterrupt\u001b[0m: "
     ]
    }
   ],
   "source": [
    "# Prepare the field\n",
    "lamb_max = 10\n",
    "lamb_min = 0\n",
    "nqdif = 2\n",
    "Nq_max = nqdif + lamb_max\n",
    "\n",
    "sz = (Nq_max - lamb_min)//2 + 1\n",
    "brackets_f = np.zeros((lamb_max + 1, sz, sz, sz, sz, lamb_max + 1, sz, lamb_max - lamb_min + 1))\n",
    "\n",
    "# Open the file and load the Fortran computed values\n",
    "values_and_indices_f = np.loadtxt('OSBRACKETS/out_even')\n",
    "values_f = values_and_indices_f[:, -1]\n",
    "indices_f = values_and_indices_f[:, :-1].astype(int)\n",
    "\n",
    "# Index the matrix\n",
    "# Based on the stupid order things are saved in FORTRAN (yes, makes no sense)\n",
    "# N' (B'), n1', M' (A'), n1, n2, N (B), M (A), L (lamb)\n",
    "brackets_f[tuple(indices_f.T)] = values_f\n",
    "\n",
    "# --------------------------------------------\n",
    "# Brackets with the quantum numbers we want:\n",
    "# n1, l1, n2, l2, n1', l1', l2', lamb   (  n2' = (2*n1 + l1 + 2*n2 + l2 - 2*n1' - l1'  - l2')/2  )\n",
    "l_min = 0\n",
    "l_max = Nq_max\n",
    "n_max = (Nq_max - lamb_min)//2\n",
    "brackets = np.zeros((n_max + 1, l_max - l_min + 1, n_max + 1, l_max - l_min + 1, n_max + 1, \n",
    "                                l_max - l_min + 1, l_max - l_min + 1, lamb_max - lamb_min + 1))\n",
    "\n",
    "# Recast the indices (incredibly works)\n",
    "indices = np.vstack(recast_indices(Nq_max, *[indices_f[:, i] for i in range(8)])).T\n",
    "# Index the matrix\n",
    "brackets[tuple(indices.T)] = values_f\n",
    "\n",
    "# Some tests\n",
    "print(indices_f[12])\n",
    "print(recast_indices(Nq_max, *indices_f[12]))\n",
    "print(indices[12])\n",
    "\n",
    "\n",
    "\n",
    "for i in range(54000, len(values_f)):\n",
    "    break\n",
    "    idx = indices_f[i]\n",
    "\n",
    "    n1 = idx[3]\n",
    "    n2 = idx[4]\n",
    "    lamb = idx[7]\n",
    "    A, B = idx[6], idx[5]\n",
    "    Nq, eps = get_nq_and_eps(Nq_max, A, lamb, n1, n2)\n",
    "    l1, l2 = get_ells(A, B, lamb, eps)\n",
    "\n",
    "    # if i % 1000 == 0:\n",
    "    #     print(i)\n",
    "\n",
    "    if values_f[i] != 0:\n",
    "        \n",
    "        #print(l1, l2, l1 + l2)\n",
    "\n",
    "        Nq = 2 * n1 + l1 + 2 * n2 + l2\n",
    "        if (Nq_max - Nq) % 2 != 0:\n",
    "            print(\"SDADd\")\n",
    "\n",
    "        if Nq == 5:\n",
    "            print(Nq_max - Nq, Nq, eps)\n",
    "            print(lamb, l1, l2, n1, n2)\n",
    "            print('---')\n",
    "            # print(idx, values_f[i])\n",
    "\n",
    "        # print(idx, values[i])\n",
    "        # print(idx, brackets_f[tuple(idx.T)], \"Idx\")\n"
   ]
  },
  {
   "cell_type": "code",
   "execution_count": null,
   "metadata": {},
   "outputs": [],
   "source": []
  }
 ],
 "metadata": {
  "kernelspec": {
   "display_name": "nuc",
   "language": "python",
   "name": "python3"
  },
  "language_info": {
   "codemirror_mode": {
    "name": "ipython",
    "version": 3
   },
   "file_extension": ".py",
   "mimetype": "text/x-python",
   "name": "python",
   "nbconvert_exporter": "python",
   "pygments_lexer": "ipython3",
   "version": "3.10.8 (main, Nov 24 2022, 08:09:04) [Clang 14.0.6 ]"
  },
  "orig_nbformat": 4,
  "vscode": {
   "interpreter": {
    "hash": "f2026915bd68eb09421da6621785de9174d3c118f54f57b696cf59ac276bd21b"
   }
  }
 },
 "nbformat": 4,
 "nbformat_minor": 2
}
