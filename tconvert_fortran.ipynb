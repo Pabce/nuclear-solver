{
 "cells": [
  {
   "cell_type": "code",
   "execution_count": 2,
   "metadata": {},
   "outputs": [],
   "source": [
    "import numpy as np\n",
    "from numba import jit, njit\n",
    "from scipy.sparse import bsr_array"
   ]
  },
  {
   "cell_type": "code",
   "execution_count": 3,
   "metadata": {},
   "outputs": [],
   "source": [
    "def get_nq_and_eps(Nq_max, A, lamb, n1, n2):\n",
    "    # Determine the parity of Nq - lamb\n",
    "    Nqpar = Nq_max % 2\n",
    "    Nq_minus_lamb_par = (Nqpar - lamb) % 2\n",
    "    eps = Nq_minus_lamb_par % 2\n",
    "    # Determine Nq\n",
    "    Nq = 2 * n1 + 2 * n2 + 2 * A + lamb + eps\n",
    "\n",
    "    return Nq, eps\n",
    "\n",
    "\n",
    "def get_ells(A, B, lamb, eps):    \n",
    "    l1 = A + B + eps\n",
    "    l2 = A - B + lamb\n",
    "\n",
    "    return l1, l2\n",
    "\n",
    "# Based on the stupid order things are saved in FORTRAN (yes, makes no sense)\n",
    "# From: N' (B'), n1', M' (A'), n1, n2, N (B), M (A), L (lamb)\n",
    "# To: n1, l1, n2, l2, n1', l1', l2', lamb  (  n2' = (2*n1 + l1 + 2*n2 + l2 - 2*n1' - l1' - l2')/2  )\n",
    "# Or: Ne1, l1, Ne2, l2, Ne1', l1', l2', lamb  (  Ne2' = Ne1 + Ne2 - Ne1'  )\n",
    "def recast_indices(mode, Nq_max, Bprime, n1prime, Aprime, n1, n2, B, A, lamb):\n",
    "    Nq, eps = get_nq_and_eps(Nq_max, A, lamb, n1, n2)\n",
    "    l1, l2 = get_ells(A, B, lamb, eps)\n",
    "    l1prime, l2prime = get_ells(Aprime, Bprime, lamb, eps)\n",
    "\n",
    "    if mode == 'n':\n",
    "        return [n1, l1, n2, l2, n1prime, l1prime, l2prime, lamb]\n",
    "    \n",
    "    elif mode == 'Ne':\n",
    "        Ne1 = 2 * n1 + l1\n",
    "        Ne2 = 2 * n2 + l2\n",
    "        Ne1prime = 2 * n1prime + l1prime\n",
    "\n",
    "        return [Ne1, l1, Ne2, l2, Ne1prime, l1prime, l2prime, lamb]\n",
    "\n"
   ]
  },
  {
   "cell_type": "code",
   "execution_count": 21,
   "metadata": {},
   "outputs": [],
   "source": [
    "# Prepare the field\n",
    "lamb_max = 10\n",
    "lamb_min = 0\n",
    "#nqdif = 2\n",
    "Nq_max_even = 10\n",
    "Nq_max_odd = 11\n",
    "Nq_max = max(Nq_max_even, Nq_max_odd)\n",
    "\n",
    "sz = (Nq_max - lamb_min)//2 + 1\n",
    "brackets_f = np.zeros((lamb_max + 1, sz, sz, sz, sz, lamb_max + 1, sz, lamb_max - lamb_min + 1))\n",
    "\n",
    "# Open the file and load the Fortran computed values\n",
    "values_and_indices_f_even = np.loadtxt('OSBRACKETS/out_even.dat')\n",
    "values_and_indices_f_odd = np.loadtxt('OSBRACKETS/out_odd.dat')\n",
    "values_f = np.hstack((values_and_indices_f_even[:, -1], values_and_indices_f_odd[:, -1]))\n",
    "indices_f = np.vstack((values_and_indices_f_even[:, :-1].astype(int), values_and_indices_f_odd[:, :-1].astype(int)))\n",
    "\n",
    "# Index the matrix\n",
    "# Based on the stupid order things are saved in FORTRAN (yes, makes no sense)\n",
    "# N' (B'), n1', M' (A'), n1, n2, N (B), M (A), L (lamb)\n",
    "brackets_f[tuple(indices_f.T)] = values_f\n",
    "\n",
    "# --------------------------------------------\n",
    "# Brackets with the quantum numbers we want:\n",
    "# n1, l1, n2, l2, n1', l1', l2', lamb   (  n2' = (2*n1 + l1 + 2*n2 + l2 - 2*n1' - l1' - l2')/2  )\n",
    "l_min = 0\n",
    "l_max = Nq_max #lamb_max (there is an interesting reason why this is not lamb_max)\n",
    "n_max = (Nq_max - lamb_min)//2\n",
    "brackets = np.zeros((n_max + 1, l_max - l_min + 1, n_max + 1, l_max - l_min + 1, n_max + 1, \n",
    "                                l_max - l_min + 1, l_max - l_min + 1, lamb_max - lamb_min + 1))\n",
    "# Recast the indices (incredibly works)\n",
    "indices = np.vstack(recast_indices('n', Nq_max, *[indices_f[:, i] for i in range(8)])).T\n",
    "# Index the matrix\n",
    "brackets[tuple(indices.T)] = values_f\n",
    "\n",
    "# Some tests\n",
    "# print(indices_f[12])\n",
    "# print(recast_indices('n', Nq_max, *indices_f[12]))\n",
    "# print(indices[12])\n",
    "# print(values_f[12], brackets[tuple(indices[12].T)])\n",
    "\n",
    "# --------------------------------------------\n",
    "# Or:\n",
    "# Ne1, l1, Ne2, l2, Ne1', l1', l2', lamb  (  Ne2' = Ne1 + Ne2 - Ne1'  )\n",
    "Ne_max = Nq_max\n",
    "brackets_Ne = np.zeros((Ne_max + 1, l_max - l_min + 1, Ne_max + 1, l_max - l_min + 1, Ne_max + 1,\n",
    "                                l_max - l_min + 1, l_max - l_min + 1, lamb_max - lamb_min + 1))\n",
    "# Recast the indices\n",
    "indices_Ne = np.vstack(recast_indices('Ne', Nq_max, *[indices_f[:, i] for i in range(8)])).T\n",
    "# Index the matrix\n",
    "brackets_Ne[tuple(indices_Ne.T)] = values_f\n",
    "\n",
    "# Some tests\n",
    "# print(indices_Ne[12])\n",
    "# print(indices[12])\n",
    "# print(brackets_Ne[tuple(indices_Ne[12].T)], brackets[tuple(indices[12].T)])\n",
    "\n",
    "# These arrays are sparse as fuck, cast them to sparse matrices\n",
    "#brackets_sp = bsr_array(brackets)\n",
    "# print(np.count_nonzero(brackets_Ne)/brackets_Ne.size)\n",
    "# print(np.count_nonzero(brackets)/brackets.size)\n",
    "\n",
    "\n",
    "for i in range(0, len(values_f)):\n",
    "    break\n",
    "    idx = indices_f[i]\n",
    "\n",
    "    n1 = idx[3]\n",
    "    n2 = idx[4]\n",
    "    lamb = idx[7]\n",
    "    A, B = idx[6], idx[5]\n",
    "    Nq, eps = get_nq_and_eps(Nq_max, A, lamb, n1, n2)\n",
    "    l1, l2 = get_ells(A, B, lamb, eps)\n",
    "\n",
    "    print(l1, l2, lamb)\n",
    "\n",
    "    # if i % 1000 == 0:\n",
    "    #     print(i)\n",
    "        \n",
    "    #print(l1, l2, l1 + l2)\n",
    "\n",
    "    # Nq = 2 * n1 + l1 + 2 * n2 + l2\n",
    "    # if (Nq_max - Nq) % 2 != 0:\n",
    "    #     print(\"SDADd\")\n",
    "\n",
    "    # if Nq == 5:\n",
    "    #     print(Nq_max - Nq, Nq, eps)\n",
    "    #     print(lamb, l1, l2, n1, n2)\n",
    "    #     print('---')\n",
    "        # print(idx, values_f[i])\n",
    "\n",
    "    # print(idx, values[i])\n",
    "    # print(idx, brackets_f[tuple(idx.T)], \"Idx\")\n"
   ]
  },
  {
   "cell_type": "code",
   "execution_count": 22,
   "metadata": {},
   "outputs": [],
   "source": [
    "# Save the numpy arrays\n",
    "np.save('./saved_values/brackets.npy', brackets)\n",
    "np.save('./saved_values/brackets_Ne.npy', brackets_Ne)"
   ]
  },
  {
   "cell_type": "code",
   "execution_count": 5,
   "metadata": {},
   "outputs": [
    {
     "name": "stdout",
     "output_type": "stream",
     "text": [
      "-6.938893903907228e-18\n"
     ]
    }
   ],
   "source": [
    "import ctypes\n",
    "\n",
    "# Load the shared library\n",
    "lib = ctypes.cdll.LoadLibrary('./wigner.so')\n",
    "# Print the lib attributes and functions\n",
    "\n",
    "\n",
    "# Declare the function prototype\n",
    "# NineJSymbol( double J1, double J2, double J3, double J4, double J5, double J6, double J7, double J8, double J9)\n",
    "lib.NineJSymbol.argtypes = [ctypes.c_double, ctypes.c_double, ctypes.c_double, ctypes.c_double, ctypes.c_double, ctypes.c_double, ctypes.c_double, ctypes.c_double, ctypes.c_double]\n",
    "lib.NineJSymbol.restype = ctypes.c_double\n",
    "\n",
    "# Call the function\n",
    "print(lib.NineJSymbol(1, 1, 1, 1, 1, 1, 1, 1, 1))"
   ]
  },
  {
   "cell_type": "code",
   "execution_count": 1,
   "metadata": {},
   "outputs": [],
   "source": [
    "# Will not use this for now as we already have it working in FORTRAN, but \n",
    "# can be useful for the future\n",
    "\n",
    "import numpy as np\n",
    "import OSBRACKETS.allos as allos\n",
    "co = - 1 / np.sqrt(2)\n",
    "si = - co"
   ]
  },
  {
   "cell_type": "code",
   "execution_count": 4,
   "metadata": {},
   "outputs": [
    {
     "name": "stdout",
     "output_type": "stream",
     "text": [
      "brac = allosbrac(nqmax,lmin,lmax,co,si,brac)\n",
      "\n",
      "Wrapper for ``allosbrac``.\n",
      "\n",
      "Parameters\n",
      "----------\n",
      "nqmax : input int\n",
      "lmin : input int\n",
      "lmax : input int\n",
      "co : input float\n",
      "si : input float\n",
      "brac : input rank-8 array('d') with bounds (1 + lmax,1 + (-lmin + nqmax) / 2,1 + (-lmin + nqmax) / 2,1 + (-lmin + nqmax) / 2,1 + (-lmin + nqmax) / 2,1 + lmax,1 + (-lmin + nqmax) / 2,1 + lmax - lmin)\n",
      "\n",
      "Returns\n",
      "-------\n",
      "brac : rank-8 array('d') with bounds (1 + lmax,1 + (-lmin + nqmax) / 2,1 + (-lmin + nqmax) / 2,1 + (-lmin + nqmax) / 2,1 + (-lmin + nqmax) / 2,1 + lmax,1 + (-lmin + nqmax) / 2,1 + lmax - lmin)\n",
      "\n"
     ]
    }
   ],
   "source": [
    "#print(allosbrac.__dict__)\n",
    "lamb_max = 20\n",
    "lamb_min = 0\n",
    "Nq_max = 20\n",
    "sz = (Nq_max - lamb_min) // 2 + 1\n",
    "brackets_f = np.zeros((lamb_max + 1, sz, sz, sz, sz, lamb_max + 1, sz, lamb_max - lamb_min + 1))\n",
    "\n",
    "print(allos.allosbrac.__doc__)\n",
    "\n",
    "allos.allosbrac(Nq_max, lamb_min, lamb_max, co, si, brackets_f)"
   ]
  },
  {
   "cell_type": "code",
   "execution_count": null,
   "metadata": {},
   "outputs": [],
   "source": []
  }
 ],
 "metadata": {
  "kernelspec": {
   "display_name": "nucenv",
   "language": "python",
   "name": "python3"
  },
  "language_info": {
   "codemirror_mode": {
    "name": "ipython",
    "version": 3
   },
   "file_extension": ".py",
   "mimetype": "text/x-python",
   "name": "python",
   "nbconvert_exporter": "python",
   "pygments_lexer": "ipython3",
   "version": "3.10.8 | packaged by conda-forge | (main, Nov 22 2022, 08:25:29) [Clang 14.0.6 ]"
  },
  "orig_nbformat": 4,
  "vscode": {
   "interpreter": {
    "hash": "e6e35f82b65aa3e7bc09b15534ab6558df471b73165f170c3a566fdc3207286c"
   }
  }
 },
 "nbformat": 4,
 "nbformat_minor": 2
}
