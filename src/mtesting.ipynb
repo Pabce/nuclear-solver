{
 "cells": [
  {
   "cell_type": "code",
   "execution_count": 1,
   "metadata": {},
   "outputs": [
    {
     "name": "stderr",
     "output_type": "stream",
     "text": [
      "OMP: Info #276: omp_set_nested routine deprecated, please use omp_set_max_active_levels instead.\n"
     ]
    }
   ],
   "source": [
    "import numpy as np\n",
    "from scipy.special import factorial, factorial2\n",
    "from sympy.physics.wigner import wigner_9j, wigner_6j, wigner_3j\n",
    "from itertools import product\n",
    "\n",
    "from moshinsky_way import set_moshinsky_brackets"
   ]
  },
  {
   "cell_type": "code",
   "execution_count": 2,
   "metadata": {},
   "outputs": [],
   "source": [
    "# Test that our Moshinsky brackets are correct (quite incomplete but oh well)\n",
    "\n",
    "loaded_brackets = set_moshinsky_brackets(10, 10)\n",
    "\n",
    "si = np.sqrt(1/2)\n",
    "co = -si\n",
    "\n",
    "def A(n, l):\n",
    "    return (-1)**n * (factorial2(2*n) * factorial2(2*n + 2*l + 1))**(-1/2)\n"
   ]
  },
  {
   "cell_type": "code",
   "execution_count": 3,
   "metadata": {},
   "outputs": [
    {
     "name": "stdout",
     "output_type": "stream",
     "text": [
      "COUNT: 480\n"
     ]
    }
   ],
   "source": [
    "\n",
    "# l1 = 0\n",
    "# l2 = 0\n",
    "# n1 = 0\n",
    "# n2 = 0\n",
    "# lamb = 0\n",
    "\n",
    "count = 0\n",
    "for l1, l2 in product(range(0, 4), repeat=2):\n",
    "    for n1, n2 in product(range(0, 4), repeat=2):\n",
    "        for lamb in range(np.abs(l1-l2), l1+l2+1):\n",
    "        \n",
    "            Nq = 2*n1 + l1 + 2*n2 + l2\n",
    "\n",
    "            # if (l1 + l2) % 2 != 1:\n",
    "            #     continue\n",
    "\n",
    "            if (Nq - lamb) % 2 != 0:\n",
    "                continue\n",
    "\n",
    "            n_prime = (Nq - lamb)//2\n",
    "\n",
    "            if 2*n_prime + lamb != Nq:\n",
    "                print(\"WTF\")\n",
    "\n",
    "            bracket = float(co**(2*n1 + l1) * si**(2*n2 + l2) * (-1)**lamb * ((2*l1 + 1) * (2*l2 + 1))**(1/2) *\\\n",
    "                        wigner_3j(l1, l2, lamb, 0, 0, 0).evalf() * A(n1, l1) * A(n2, l2) / A(n_prime, lamb))\n",
    "\n",
    "\n",
    "            loaded_bracket = loaded_brackets[n_prime, lamb, 0, 0, n1, l1, l2, lamb]\n",
    "            loaded_bracket_2 = loaded_brackets[n1, l1, n2, l2, n_prime, lamb, 0, lamb]\n",
    "\n",
    "            #print(bracket, loaded_bracket)\n",
    "\n",
    "            if not np.isclose(loaded_bracket, loaded_bracket_2, atol=1e-3):\n",
    "                print(\"WTF\")\n",
    "                print(loaded_bracket, loaded_bracket_2)\n",
    "\n",
    "            if not np.isclose(bracket, loaded_bracket, atol=1e-3):\n",
    "                print(\"Error in Moshinsky brackets:\", n1, l1, n2, l2, n_prime, lamb)\n",
    "                print(bracket, loaded_bracket)\n",
    "                #print(A(n1, l1), A(n2, l2), A(n_prime, lamb), wigner_3j(l1, l2, lamb, 0, 0, 0).evalf())\n",
    "                print(\"even\" if (l1 + l2) % 2 == 0 else \"odd\")\n",
    "                print(Nq)\n",
    "            \n",
    "            count += 1\n",
    "\n",
    "print(\"COUNT:\", count)"
   ]
  },
  {
   "cell_type": "code",
   "execution_count": null,
   "metadata": {},
   "outputs": [],
   "source": []
  }
 ],
 "metadata": {
  "kernelspec": {
   "display_name": "nucenv",
   "language": "python",
   "name": "python3"
  },
  "language_info": {
   "codemirror_mode": {
    "name": "ipython",
    "version": 3
   },
   "file_extension": ".py",
   "mimetype": "text/x-python",
   "name": "python",
   "nbconvert_exporter": "python",
   "pygments_lexer": "ipython3",
   "version": "3.10.8 | packaged by conda-forge | (main, Nov 22 2022, 08:25:29) [Clang 14.0.6 ]"
  },
  "orig_nbformat": 4,
  "vscode": {
   "interpreter": {
    "hash": "e6e35f82b65aa3e7bc09b15534ab6558df471b73165f170c3a566fdc3207286c"
   }
  }
 },
 "nbformat": 4,
 "nbformat_minor": 2
}
