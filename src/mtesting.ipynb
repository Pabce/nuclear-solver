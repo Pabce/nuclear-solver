{
 "cells": [
  {
   "cell_type": "code",
   "execution_count": 1,
   "metadata": {},
   "outputs": [
    {
     "name": "stderr",
     "output_type": "stream",
     "text": [
      "OMP: Info #276: omp_set_nested routine deprecated, please use omp_set_max_active_levels instead.\n"
     ]
    }
   ],
   "source": [
    "import numpy as np\n",
    "from scipy.special import factorial, factorial2\n",
    "from sympy.physics.wigner import wigner_9j, wigner_6j, wigner_3j\n",
    "from itertools import product\n",
    "\n",
    "from moshinsky_way import set_moshinsky_brackets"
   ]
  },
  {
   "attachments": {},
   "cell_type": "markdown",
   "metadata": {},
   "source": [
    "## Test Moshinsky brackets"
   ]
  },
  {
   "cell_type": "code",
   "execution_count": 2,
   "metadata": {},
   "outputs": [],
   "source": [
    "# Test that our Moshinsky brackets are correct (quite incomplete but oh well)\n",
    "\n",
    "loaded_brackets = set_moshinsky_brackets(10, 10)\n",
    "\n",
    "si = np.sqrt(1/2)\n",
    "co = -si\n",
    "\n",
    "def A(n, l):\n",
    "    return (-1)**n * (factorial2(2*n) * factorial2(2*n + 2*l + 1))**(-1/2)\n"
   ]
  },
  {
   "cell_type": "code",
   "execution_count": 3,
   "metadata": {},
   "outputs": [
    {
     "name": "stdout",
     "output_type": "stream",
     "text": [
      "COUNT: 480\n"
     ]
    }
   ],
   "source": [
    "\n",
    "# l1 = 0\n",
    "# l2 = 0\n",
    "# n1 = 0\n",
    "# n2 = 0\n",
    "# lamb = 0\n",
    "\n",
    "count = 0\n",
    "for l1, l2 in product(range(0, 4), repeat=2):\n",
    "    for n1, n2 in product(range(0, 4), repeat=2):\n",
    "        for lamb in range(np.abs(l1-l2), l1+l2+1):\n",
    "        \n",
    "            Nq = 2*n1 + l1 + 2*n2 + l2\n",
    "\n",
    "            # if (l1 + l2) % 2 != 1:\n",
    "            #     continue\n",
    "\n",
    "            if (Nq - lamb) % 2 != 0:\n",
    "                continue\n",
    "\n",
    "            n_prime = (Nq - lamb)//2\n",
    "\n",
    "            if 2*n_prime + lamb != Nq:\n",
    "                print(\"WTF\")\n",
    "\n",
    "            bracket = float(co**(2*n1 + l1) * si**(2*n2 + l2) * (-1)**lamb * ((2*l1 + 1) * (2*l2 + 1))**(1/2) *\\\n",
    "                        wigner_3j(l1, l2, lamb, 0, 0, 0).evalf() * A(n1, l1) * A(n2, l2) / A(n_prime, lamb))\n",
    "\n",
    "\n",
    "            loaded_bracket = loaded_brackets[n_prime, lamb, 0, 0, n1, l1, l2, lamb]\n",
    "            loaded_bracket_2 = loaded_brackets[n1, l1, n2, l2, n_prime, lamb, 0, lamb]\n",
    "\n",
    "            #print(bracket, loaded_bracket)\n",
    "\n",
    "            if not np.isclose(loaded_bracket, loaded_bracket_2, atol=1e-3):\n",
    "                print(\"WTF\")\n",
    "                print(loaded_bracket, loaded_bracket_2)\n",
    "\n",
    "            if not np.isclose(bracket, loaded_bracket, atol=1e-3):\n",
    "                print(\"Error in Moshinsky brackets:\", n1, l1, n2, l2, n_prime, lamb)\n",
    "                print(bracket, loaded_bracket)\n",
    "                #print(A(n1, l1), A(n2, l2), A(n_prime, lamb), wigner_3j(l1, l2, lamb, 0, 0, 0).evalf())\n",
    "                print(\"even\" if (l1 + l2) % 2 == 0 else \"odd\")\n",
    "                print(Nq)\n",
    "            \n",
    "            count += 1\n",
    "\n",
    "print(\"COUNT:\", count)"
   ]
  },
  {
   "attachments": {},
   "cell_type": "markdown",
   "metadata": {},
   "source": [
    "## Test the index flattener/unflattener"
   ]
  },
  {
   "cell_type": "code",
   "execution_count": 2,
   "metadata": {},
   "outputs": [
    {
     "name": "stdout",
     "output_type": "stream",
     "text": [
      "Num_sates: 18\n",
      "18 18\n",
      "[ 0  1  2  3  4  5  6  7  8  9 10 11 12 13 14 15 16 17]\n",
      "[ 0  1  2  3  4  5  6  7  8  9 10 11 12 13 14 15 16 17]\n",
      "7\n"
     ]
    }
   ],
   "source": [
    "import full_minnesota_hf_system as hfs\n",
    "\n",
    "system = hfs.System(Ne_max=4, l_max=1, hbar_omega=10, mass=939)\n",
    "\n",
    "print(\"Num_sates:\", system.num_states)\n",
    "indices = np.arange(0, system.num_states)\n",
    "\n",
    "unflattened = []\n",
    "for idx in indices:\n",
    "    unflatten = system.index_unflattener(idx)\n",
    "    flatten = system.index_flattener(*unflatten)\n",
    "    if idx != flatten:\n",
    "        print(\"WTF\")\n",
    "    \n",
    "    unflattened.append(unflatten)\n",
    "# All unique?\n",
    "print(len(unflattened), len(set(unflattened)))\n",
    "\n",
    "\n",
    "idx_list = []\n",
    "for n in range(system.n_level_max + 1):\n",
    "    l_max = min(system.l_level_max, system.Ne_max - 2*n)\n",
    "    for l in range(l_max + 1):\n",
    "        for twoj in range(np.abs(2 * l - 1), 2 * l + 2, 2):\n",
    "            for twom in range(-twoj, twoj + 1, 2):\n",
    "                \n",
    "                flatten = system.index_flattener(n, l, twoj, twom)\n",
    "                unflatten = system.index_unflattener(flatten)\n",
    "\n",
    "                if (n, l, twoj, twom) != unflatten:\n",
    "                    print(\"WTF 2\")\n",
    "                \n",
    "                #print(flatten, unflatten)\n",
    "                idx_list.append(flatten)\n",
    "\n",
    "idx_list = np.array(idx_list)\n",
    "print(idx_list)\n",
    "print(indices)\n",
    "\n",
    "# print(system.index_unflattener(18))\n",
    "# print(system.index_unflattener(19))\n",
    "print(system.index_flattener(0, 1, 3, 3))\n"
   ]
  },
  {
   "cell_type": "code",
   "execution_count": 104,
   "metadata": {},
   "outputs": [
    {
     "name": "stdout",
     "output_type": "stream",
     "text": [
      "Num_sates: 18\n",
      "(18, 18)\n",
      "2D flattening is consistent: True\n"
     ]
    }
   ],
   "source": [
    "#system = hfs.System(Ne_max=2, l_max=1, hbar_omega=10, mass=939)\n",
    "print(\"Num_sates:\", system.num_states)\n",
    "ns = system.num_states\n",
    "\n",
    "np.random.seed(0)\n",
    "mat = np.random.rand(system.n_level_max+1, system.l_level_max+1, 2, system.n_level_max+1, system.l_level_max+1, 2)\n",
    "\n",
    "m_diagonal = True\n",
    "mat_flat = system.matrix_ndflatten(mat, dim=2, m_diagonal=m_diagonal, asym=False)\n",
    "\n",
    "print(mat_flat.shape)\n",
    "\n",
    "consistent = True\n",
    "for unf1 in unflattened:\n",
    "    for unf2 in unflattened:\n",
    "        idx1 = system.index_flattener(*unf1)\n",
    "        idx2 = system.index_flattener(*unf2)\n",
    "\n",
    "        n1, l1 = unf1[0], unf1[1]\n",
    "        n2, l2 = unf2[0], unf2[1]\n",
    "\n",
    "        twoj1_idx = 0 if unf1[2] < 2 * l1 else 1\n",
    "        twoj2_idx = 0 if unf2[2] < 2 * l2 else 1\n",
    "\n",
    "        # print(idx1, idx2)\n",
    "        # print(unf1, unf2)\n",
    "        # print(mat[n1, l1, twoj1_idx, n2, l2, twoj2_idx])\n",
    "        # print(mat_flat[idx1, idx2])\n",
    "\n",
    "        if m_diagonal:\n",
    "            m1, m2 = unf1[3], unf2[3]\n",
    "            if m1 != m2:\n",
    "                if np.isclose(mat_flat[idx1, idx2], 0):\n",
    "                    continue\n",
    "                    \n",
    "                print(\"m diagonal not working\")\n",
    "                consistent = False\n",
    "\n",
    "        if not np.isclose(mat[n1, l1, twoj1_idx, n2, l2, twoj2_idx], mat_flat[idx1, idx2]):\n",
    "            print(\"WTF\")\n",
    "            consistent = False\n",
    "\n",
    "print(\"2D flattening is consistent:\", consistent)\n"
   ]
  },
  {
   "cell_type": "code",
   "execution_count": 6,
   "metadata": {},
   "outputs": [
    {
     "name": "stdout",
     "output_type": "stream",
     "text": [
      "Both flattening systems equivalent: True\n",
      "(18, 18, 18, 18)\n",
      "4D flattening is consistent: True\n"
     ]
    }
   ],
   "source": [
    "import full_minnesota_numba as hfn\n",
    "# 4D flattening\n",
    "np.random.seed(0)\n",
    "mat = np.random.rand(system.n_level_max+1, system.l_level_max+1, 2, system.n_level_max+1, system.l_level_max+1, 2,\n",
    "                        system.n_level_max+1, system.l_level_max+1, 2, system.n_level_max+1, system.l_level_max+1, 2)\n",
    "\n",
    "m_diagonal = True\n",
    "asym = True\n",
    "mat_flat = system.matrix_ndflatten(mat, dim=4, m_diagonal=m_diagonal, asym=asym)\n",
    "mat_flat_2 = hfn.n_matrix_4dflatten(mat, m_diagonal, asym, system.num_states, system.Ne_max, system.l_level_max)\n",
    "print(\"Both flattening systems equivalent:\", np.allclose(mat_flat, mat_flat_2))\n",
    "\n",
    "print(mat_flat.shape)\n",
    "\n",
    "consistent = True\n",
    "for unf1, unf2, unf3, unf4 in product(unflattened, repeat=4):\n",
    "        idx1 = system.index_flattener(*unf1)\n",
    "        idx2 = system.index_flattener(*unf2)\n",
    "        idx3 = system.index_flattener(*unf3)\n",
    "        idx4 = system.index_flattener(*unf4)\n",
    "\n",
    "        n1, l1 = unf1[0], unf1[1]\n",
    "        n2, l2 = unf2[0], unf2[1]\n",
    "        n3, l3 = unf3[0], unf3[1]\n",
    "        n4, l4 = unf4[0], unf4[1]\n",
    "\n",
    "        twoj1_idx = 0 if unf1[2] < 2 * l1 else 1\n",
    "        twoj2_idx = 0 if unf2[2] < 2 * l2 else 1\n",
    "        twoj3_idx = 0 if unf3[2] < 2 * l3 else 1\n",
    "        twoj4_idx = 0 if unf4[2] < 2 * l4 else 1\n",
    "\n",
    "        if m_diagonal:\n",
    "            m1, m2, m3, m4 = unf1[3], unf2[3], unf3[3], unf4[3]\n",
    "            if not asym:\n",
    "                if m1 != m3 or m2 != m4:\n",
    "                    if np.isclose(mat_flat[idx1, idx2, idx3, idx4], 0):\n",
    "                        continue\n",
    "                        \n",
    "                    print(\"m diagonal not working\", m1, m2, m3, m4, mat_flat[idx1, idx2, idx3, idx4])\n",
    "                    consistent = False\n",
    "            else:\n",
    "                if (m1 != m3 or m2 != m4) and (m1 != m4 or m2 != m3):\n",
    "                    if np.isclose(mat_flat[idx1, idx2, idx3, idx4], 0):\n",
    "                        continue\n",
    "                        \n",
    "                    print(\"m diagonal not working - asym\")\n",
    "                    consistent = False\n",
    "\n",
    "        # print(idx1, idx2)\n",
    "        # print(unf1, unf2)\n",
    "        # print(mat[n1, l1, twoj1_idx, n2, l2, twoj2_idx])\n",
    "        # print(mat_flat[idx1, idx2])\n",
    "        val = mat[n1, l1, twoj1_idx, n2, l2, twoj2_idx, n3, l3, twoj3_idx, n4, l4, twoj4_idx]\n",
    "        val_flat = mat_flat[idx1, idx2, idx3, idx4]\n",
    "        if not np.isclose(val, val_flat):\n",
    "            consistent = False\n",
    "            #print(\"WTF 2\")\n",
    "\n",
    "print(\"4D flattening is consistent:\", consistent)"
   ]
  },
  {
   "cell_type": "code",
   "execution_count": null,
   "metadata": {},
   "outputs": [],
   "source": []
  }
 ],
 "metadata": {
  "kernelspec": {
   "display_name": "nucenv",
   "language": "python",
   "name": "python3"
  },
  "language_info": {
   "codemirror_mode": {
    "name": "ipython",
    "version": 3
   },
   "file_extension": ".py",
   "mimetype": "text/x-python",
   "name": "python",
   "nbconvert_exporter": "python",
   "pygments_lexer": "ipython3",
   "version": "3.10.8"
  },
  "orig_nbformat": 4,
  "vscode": {
   "interpreter": {
    "hash": "e6e35f82b65aa3e7bc09b15534ab6558df471b73165f170c3a566fdc3207286c"
   }
  }
 },
 "nbformat": 4,
 "nbformat_minor": 2
}
